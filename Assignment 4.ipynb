{
 "cells": [
  {
   "cell_type": "markdown",
   "id": "50d856c8",
   "metadata": {},
   "source": [
    "1. What exactly is []?\n",
    "- Square bracket denotes List or uses to make a list"
   ]
  },
  {
   "cell_type": "markdown",
   "id": "d0bf11ac",
   "metadata": {},
   "source": [
    "2. 2. In a list of values stored in a variable called spam, how would you assign the value 'hello' as the\n",
    "third value? (Assume [2, 4, 6, 8, 10] are in spam.)"
   ]
  },
  {
   "cell_type": "code",
   "execution_count": 53,
   "id": "1a925473",
   "metadata": {},
   "outputs": [
    {
     "name": "stdout",
     "output_type": "stream",
     "text": [
      "[2, 4, 'hello', 8, 10]\n"
     ]
    }
   ],
   "source": [
    "spam=[2,4,6,8,10]\n",
    "spam[2]=\"hello\"\n",
    "print(spam)"
   ]
  },
  {
   "cell_type": "code",
   "execution_count": 54,
   "id": "96f5fc23",
   "metadata": {},
   "outputs": [],
   "source": [
    "#Let's pretend the spam includes the list  for the next three queries.\n",
    "spam=[\"a\",\"b\",\"c\",\"d\"]"
   ]
  },
  {
   "cell_type": "markdown",
   "id": "030a7069",
   "metadata": {},
   "source": [
    "3. What is the value of spam[int(int(\"3\" * 2) / 11)]?"
   ]
  },
  {
   "cell_type": "code",
   "execution_count": 55,
   "id": "5040fbda",
   "metadata": {},
   "outputs": [
    {
     "data": {
      "text/plain": [
       "'d'"
      ]
     },
     "execution_count": 55,
     "metadata": {},
     "output_type": "execute_result"
    }
   ],
   "source": [
    "spam[int(int(\"3\"*2)/11)]"
   ]
  },
  {
   "cell_type": "markdown",
   "id": "3fdf34f0",
   "metadata": {},
   "source": [
    "4. What is the value of spam[-1]?"
   ]
  },
  {
   "cell_type": "code",
   "execution_count": 56,
   "id": "1f861fc5",
   "metadata": {},
   "outputs": [
    {
     "data": {
      "text/plain": [
       "'d'"
      ]
     },
     "execution_count": 56,
     "metadata": {},
     "output_type": "execute_result"
    }
   ],
   "source": [
    "spam[-1]"
   ]
  },
  {
   "cell_type": "markdown",
   "id": "af6085a4",
   "metadata": {},
   "source": [
    "5. What is the value of spam[:2]?"
   ]
  },
  {
   "cell_type": "code",
   "execution_count": 57,
   "id": "de7da5cd",
   "metadata": {},
   "outputs": [
    {
     "data": {
      "text/plain": [
       "['a', 'b']"
      ]
     },
     "execution_count": 57,
     "metadata": {},
     "output_type": "execute_result"
    }
   ],
   "source": [
    "spam[:2]"
   ]
  },
  {
   "cell_type": "markdown",
   "id": "aebb796a",
   "metadata": {},
   "source": [
    "Let's pretend bacon has the list for the next three questions."
   ]
  },
  {
   "cell_type": "code",
   "execution_count": 58,
   "id": "fa29c8cd",
   "metadata": {},
   "outputs": [],
   "source": [
    "bacon=[3.14,\"cat\",11,\"cat\",True]"
   ]
  },
  {
   "cell_type": "markdown",
   "id": "669e76e1",
   "metadata": {},
   "source": [
    "6. What is the value of bacon.index('cat')?"
   ]
  },
  {
   "cell_type": "code",
   "execution_count": 59,
   "id": "94c65112",
   "metadata": {},
   "outputs": [
    {
     "data": {
      "text/plain": [
       "1"
      ]
     },
     "execution_count": 59,
     "metadata": {},
     "output_type": "execute_result"
    }
   ],
   "source": [
    "bacon.index(\"cat\")"
   ]
  },
  {
   "cell_type": "markdown",
   "id": "c7c87784",
   "metadata": {},
   "source": [
    "7. How does bacon.append(99) change the look of the list value in bacon?"
   ]
  },
  {
   "cell_type": "code",
   "execution_count": 60,
   "id": "7188d65b",
   "metadata": {},
   "outputs": [
    {
     "name": "stdout",
     "output_type": "stream",
     "text": [
      "[3.14, 'cat', 11, 'cat', True, 99]\n"
     ]
    }
   ],
   "source": [
    "bacon.append(99)\n",
    "print(bacon)"
   ]
  },
  {
   "cell_type": "markdown",
   "id": "0239ab53",
   "metadata": {},
   "source": [
    "8. How does bacon.remove(\"cat\") change the look of the list in bacon?"
   ]
  },
  {
   "cell_type": "code",
   "execution_count": 61,
   "id": "9a175c6c",
   "metadata": {},
   "outputs": [
    {
     "name": "stdout",
     "output_type": "stream",
     "text": [
      "[3.14, 11, 'cat', True, 99]\n"
     ]
    }
   ],
   "source": [
    "bacon.remove(\"cat\")\n",
    "print(bacon)"
   ]
  },
  {
   "cell_type": "markdown",
   "id": "7b75b113",
   "metadata": {},
   "source": [
    "9. What are the list concatenation and list replication operators?\n",
    "- The list concatenation operator in Python is +, which joins two lists. The list replication operator is *, which   repeats a  list a given number of times"
   ]
  },
  {
   "cell_type": "code",
   "execution_count": 62,
   "id": "4eede6d8",
   "metadata": {},
   "outputs": [
    {
     "name": "stdout",
     "output_type": "stream",
     "text": [
      "[1, 2, 3, 'a', 'b', 'c']\n",
      "[1, 2, 3, 1, 2, 3, 1, 2, 3]\n"
     ]
    }
   ],
   "source": [
    "# Concatenation Operator\n",
    "a=[1,2,3]\n",
    "b=[\"a\",\"b\",\"c\"]\n",
    "print(a+b)\n",
    "# Replication Operator\n",
    "print(a*3)"
   ]
  },
  {
   "cell_type": "markdown",
   "id": "e7c8f69f",
   "metadata": {},
   "source": [
    "10. What is difference between the list methods append() and insert()?\n",
    "- in insert method we have to give a index value to insert a element in list, but by default append adds an element at the end of the list."
   ]
  },
  {
   "cell_type": "markdown",
   "id": "339fd9f3",
   "metadata": {},
   "source": [
    "11. What are the two methods for removing items from a list?\n",
    "- Remove method\n",
    "- Pop method"
   ]
  },
  {
   "cell_type": "markdown",
   "id": "01166117",
   "metadata": {},
   "source": [
    "12. Describe how list values and string values are identical.\n",
    "- List values and string values are identical in the sense that they are both sequences of items that we can be accessed these by indexing or slicing"
   ]
  },
  {
   "cell_type": "markdown",
   "id": "767b7751",
   "metadata": {},
   "source": [
    "13. What's the difference between tuples and lists?\n",
    "- The main difference is lists are mutable in nature but tupples are immutable."
   ]
  },
  {
   "cell_type": "markdown",
   "id": "faef4fe4",
   "metadata": {},
   "source": [
    "14. How do you type a tuple value that only contains the integer 42? \n",
    "- use a comma to make a tupple"
   ]
  },
  {
   "cell_type": "code",
   "execution_count": 63,
   "id": "0d2f2de6",
   "metadata": {},
   "outputs": [
    {
     "name": "stdout",
     "output_type": "stream",
     "text": [
      "<class 'tuple'>\n"
     ]
    }
   ],
   "source": [
    "# Example\n",
    "tup=(42,)\n",
    "print(type(tup))"
   ]
  },
  {
   "cell_type": "markdown",
   "id": "2f62d5f8",
   "metadata": {},
   "source": [
    "15. How do you get a list value's tuple form? How do you get a tuple value's list form?\n",
    "- list value's tuple form\n",
    ":- we can use the tuple() function\n",
    "- tuple value's list form\n",
    ":- we can use the list() function"
   ]
  },
  {
   "cell_type": "markdown",
   "id": "c2950e82",
   "metadata": {},
   "source": [
    "16. Variables that &quot;contain&quot; list values are not necessarily lists themselves. Instead, what do they\n",
    "contain?\n",
    "- They contain references/names to list values"
   ]
  },
  {
   "cell_type": "markdown",
   "id": "dbfe8970",
   "metadata": {},
   "source": [
    "17. How do you distinguish between copy.copy() and copy.deepcopy()?\n",
    "- copy.copy() makes copies the reference to the object, while a copy.deepcopy() copies the data of the object"
   ]
  },
  {
   "cell_type": "code",
   "execution_count": 64,
   "id": "46e9948c",
   "metadata": {},
   "outputs": [
    {
     "name": "stdout",
     "output_type": "stream",
     "text": [
      "[1, 2, 3, [2, 1], 4]\n",
      "[1, 2, 3, [2, 1], 4]\n",
      "[1, 2, 3, [2, 1], 4]\n",
      "____________\n",
      "[1, 2, 3, ['Copy', 1], 4]\n",
      "[1, 2, 3, ['Copy', 1], 4]\n",
      "[1, 2, 3, [2, 1], 4]\n"
     ]
    }
   ],
   "source": [
    "# Example\n",
    "import copy\n",
    "a=[1,2,3,[2,1],4]\n",
    "b=copy.copy(a)\n",
    "c=copy.deepcopy(a)\n",
    "print(a)\n",
    "print(b)\n",
    "print(c)\n",
    "print(\"____________\")\n",
    "a[3][0]=\"Copy\" #change the list element\n",
    "print(a)\n",
    "print(b)\n",
    "print(c)"
   ]
  }
 ],
 "metadata": {
  "kernelspec": {
   "display_name": "Python 3 (ipykernel)",
   "language": "python",
   "name": "python3"
  },
  "language_info": {
   "codemirror_mode": {
    "name": "ipython",
    "version": 3
   },
   "file_extension": ".py",
   "mimetype": "text/x-python",
   "name": "python",
   "nbconvert_exporter": "python",
   "pygments_lexer": "ipython3",
   "version": "3.11.3"
  }
 },
 "nbformat": 4,
 "nbformat_minor": 5
}
